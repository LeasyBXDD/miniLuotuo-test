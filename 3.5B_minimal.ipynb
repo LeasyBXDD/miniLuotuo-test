{
  "cells": [
    {
      "attachments": {},
      "cell_type": "markdown",
      "metadata": {
        "colab_type": "text",
        "id": "view-in-github"
      },
      "source": [
        "<a href=\"https://colab.research.google.com/github/LC1332/Mini-Luotuo/blob/main/3.5B_minimal.ipynb\" target=\"_parent\"><img src=\"https://colab.research.google.com/assets/colab-badge.svg\" alt=\"Open In Colab\"/></a>"
      ]
    },
    {
      "attachments": {},
      "cell_type": "markdown",
      "metadata": {
        "id": "Y3lytinmcl_Y"
      },
      "source": [
        "# AIQA助手\n",
        "\n",
        "原项目地址https://github.com/LC1332/Mini-Luotuo\n",
        "\n",
        "包含3.5B模型的inference代码"
      ]
    },
    {
      "attachments": {},
      "cell_type": "markdown",
      "metadata": {
        "id": "sRpuBYV3cuda"
      },
      "source": [
        "安装必要的环境"
      ]
    },
    {
      "cell_type": "code",
      "execution_count": null,
      "metadata": {
        "id": "9deFaJWjaJ2-"
      },
      "outputs": [],
      "source": [
        "%pip install bitsandbytes datasets sentencepiece transformers accelerate"
      ]
    },
    {
      "cell_type": "code",
      "execution_count": null,
      "metadata": {
        "id": "jTgZI1c-avja"
      },
      "outputs": [],
      "source": [
        "from transformers import GPT2Tokenizer, GPT2LMHeadModel\n",
        "import torch\n",
        "\n",
        "def generate_prompt(instruction, input=None, prior_knowledge=\"\"):\n",
        "    prior_knowledge = f\"### 先验知识:\\n{prior_knowledge}\\n\"\n",
        "\n",
        "    if input:\n",
        "        return f\"{prior_knowledge}Below is an instruction that describes a task, paired with an input that provides further context. Write a response that appropriately completes the request.\\n\\n### Instruction:\\n{instruction}\\n\\n### Input:\\n{input}\\n\\n### Response:\\n\"\n",
        "    else:\n",
        "        return f\"{prior_knowledge}Below is an instruction that describes a task. Write a response that appropriately completes the request.\\n\\n### Instruction:\\n{instruction}\\n\\n### Response:\\n\"\n"
      ]
    },
    {
      "cell_type": "code",
      "execution_count": null,
      "metadata": {
        "id": "auuhPiF3a0GJ"
      },
      "outputs": [],
      "source": [
        "tokenizer = GPT2Tokenizer.from_pretrained('Midkey/GPT2-3.5B-chinese-ft-luotuo')\n",
        "\n",
        "model = GPT2LMHeadModel.from_pretrained('Midkey/GPT2-3.5B-chinese-ft-luotuo')"
      ]
    },
    {
      "cell_type": "code",
      "execution_count": null,
      "metadata": {
        "id": "L24kOqovbIsk"
      },
      "outputs": [],
      "source": [
        "def evaluate(\n",
        "    instruction,\n",
        "    input=\"想要编辑规则，就点击页面右侧导航栏的规则编辑器\",\n",
        "    max_new_tokens=256,\n",
        "):\n",
        "    prompt = generate_prompt(instruction, input)\n",
        "    \n",
        "    inputs = tokenizer(prompt, return_tensors=\"pt\")\n",
        "    # input_ids = inputs[\"input_ids\"].cuda()\n",
        "    input_ids = inputs[\"input_ids\"]\n",
        "    eos_token_id = 50256\n",
        "    with torch.no_grad():\n",
        "        generation_output = model.generate(\n",
        "            input_ids=input_ids,\n",
        "            return_dict_in_generate=True,\n",
        "            output_scores=True,\n",
        "            max_new_tokens=max_new_tokens,\n",
        "            pad_token_id=eos_token_id\n",
        "        )\n",
        "    for s in generation_output.sequences:\n",
        "        decode_s = s[len(input_ids[0]):]\n",
        "        if decode_s[-1] == eos_token_id:\n",
        "            decode_s = decode_s[:-1]\n",
        "        output = tokenizer.decode(decode_s)\n",
        "        print(\"Response:\", output)"
      ]
    },
    {
      "cell_type": "code",
      "execution_count": null,
      "metadata": {},
      "outputs": [],
      "source": [
        "instruction = '你好'\n",
        "evaluate(instruction)"
      ]
    },
    {
      "cell_type": "code",
      "execution_count": null,
      "metadata": {
        "colab": {
          "base_uri": "https://localhost:8080/"
        },
        "id": "cSoJvuwLdLs9",
        "outputId": "c922f3e6-4e40-4366-a11b-b20b70928fa5"
      },
      "outputs": [],
      "source": [
        "instruction = '我该在哪里编辑规则?'\n",
        "evaluate(instruction)"
      ]
    },
    {
      "cell_type": "code",
      "execution_count": null,
      "metadata": {
        "id": "0RxAH_WDbK8o"
      },
      "outputs": [],
      "source": [
        "while 1:\n",
        "    instruction = input('Ask something: ')\n",
        "    evaluate(instruction)"
      ]
    }
  ],
  "metadata": {
    "accelerator": "GPU",
    "colab": {
      "gpuType": "T4",
      "include_colab_link": true,
      "provenance": []
    },
    "gpuClass": "standard",
    "kernelspec": {
      "display_name": "Python 3",
      "name": "python3"
    },
    "language_info": {
      "codemirror_mode": {
        "name": "ipython",
        "version": 3
      },
      "file_extension": ".py",
      "mimetype": "text/x-python",
      "name": "python",
      "nbconvert_exporter": "python",
      "pygments_lexer": "ipython3",
      "version": "3.8.7"
    }
  },
  "nbformat": 4,
  "nbformat_minor": 0
}
